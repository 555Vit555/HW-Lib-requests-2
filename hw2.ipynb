{
 "cells": [
  {
   "cell_type": "code",
   "execution_count": 6,
   "metadata": {},
   "outputs": [
    {
     "name": "stdout",
     "output_type": "stream",
     "text": [
      "200\n",
      "201\n"
     ]
    }
   ],
   "source": [
    "\n",
    "class YaUploader:\n",
    "    def __init__(self, token: str):\n",
    "        self.token = token\n",
    "\n",
    "    def upload(self, file_path: str):\n",
    "        import requests\n",
    "        import json\n",
    "        token = open(\"token\").read()\n",
    "        url = \"https://cloud-api.yandex.net/v1/disk/resources/upload\"\n",
    "        params_ = {\"path\": file_path}\n",
    "        headers= {\"Authorization\": f\"OAuth {token}\"}\n",
    "        response = requests.get(url, headers=headers, params=params_)\n",
    "        print(response.status_code)\n",
    "        data = response.json()\n",
    "        data.get('href')\n",
    "        url2 = data.get('href')\n",
    "        with open(path_to_file, \"rb\") as f:\n",
    "            response2 = requests.post(url2, files= {\"file\":f})\n",
    "            print(response2.status_code)\n",
    "        \n",
    "\n",
    "\n",
    "if __name__ == '__main__':\n",
    "   \n",
    "    path_to_file = \"test2.txt\"\n",
    "    token = \"/token\"\n",
    "    uploader = YaUploader(token)\n",
    "    result = uploader.upload(path_to_file)\n",
    "    \n",
    "    \n"
   ]
  }
 ],
 "metadata": {
  "kernelspec": {
   "display_name": "Python 3",
   "language": "python",
   "name": "python3"
  },
  "language_info": {
   "codemirror_mode": {
    "name": "ipython",
    "version": 3
   },
   "file_extension": ".py",
   "mimetype": "text/x-python",
   "name": "python",
   "nbconvert_exporter": "python",
   "pygments_lexer": "ipython3",
   "version": "3.11.2"
  },
  "orig_nbformat": 4
 },
 "nbformat": 4,
 "nbformat_minor": 2
}
